{
 "cells": [
  {
   "cell_type": "code",
   "execution_count": 16,
   "id": "dbf16b91",
   "metadata": {},
   "outputs": [],
   "source": [
    "import numpy as np\n",
    "import pandas as pd"
   ]
  },
  {
   "cell_type": "code",
   "execution_count": 17,
   "id": "02a0f942",
   "metadata": {},
   "outputs": [],
   "source": [
    "data = pd.read_csv(\"C:/Users/mathe/OneDrive/Imagens/Área de Trabalho/dados_robo/data_mqtt.csv\")"
   ]
  },
  {
   "cell_type": "code",
   "execution_count": 18,
   "id": "5578f623",
   "metadata": {},
   "outputs": [
    {
     "data": {
      "text/plain": [
       "Index(['frame.time_relative', 'ip.src', 'ip.dst', 'tcp.len', 'tcp.flags_ack',\n",
       "       'tcp.flags_syn', 'tcp.flags_fin', 'tcp.flags_urg', 'tcp.flags_ae',\n",
       "       'tcp.flags_cwr', 'tcp.flags_push', 'tcp.flags_res', 'tcp.flags_reset',\n",
       "       'tcp.flags_ece', 'tcp.flags_str', 'tcp.time_delta', 'mqtt.msgtype',\n",
       "       'mqtt.dupflag', 'mqtt.hdrflags', 'mqtt.len', 'mqtt.msg', 'mqtt.qos',\n",
       "       'mqtt.msgid', 'velocidade', 'angulo', 'vbat', 'attack_label'],\n",
       "      dtype='object')"
      ]
     },
     "execution_count": 18,
     "metadata": {},
     "output_type": "execute_result"
    }
   ],
   "source": [
    "data.keys()"
   ]
  },
  {
   "cell_type": "code",
   "execution_count": 19,
   "id": "532ba245",
   "metadata": {},
   "outputs": [
    {
     "name": "stdout",
     "output_type": "stream",
     "text": [
      "<bound method IndexOpsMixin.value_counts of 0                        {\"velocidade\":0}\n",
      "1          {\"velocidade\":65,\"angulo\":123}\n",
      "2          {\"velocidade\":65,\"angulo\":123}\n",
      "3          {\"velocidade\":65,\"angulo\":123}\n",
      "4        {\"velocidade\":100,\"angulo\":-165}\n",
      "                       ...               \n",
      "10485     {\"velocidade\":100,\"angulo\":-98}\n",
      "10486     {\"velocidade\":100,\"angulo\":-97}\n",
      "10487     {\"velocidade\":100,\"angulo\":-96}\n",
      "10488     {\"velocidade\":100,\"angulo\":-94}\n",
      "10489     {\"velocidade\":100,\"angulo\":-93}\n",
      "Name: mqtt.msg, Length: 10490, dtype: object>\n"
     ]
    }
   ],
   "source": [
    "print(data['mqtt.msg'].value_counts)"
   ]
  },
  {
   "cell_type": "code",
   "execution_count": 20,
   "id": "d5174cce",
   "metadata": {},
   "outputs": [
    {
     "data": {
      "text/plain": [
       "0    1\n",
       "1    1\n",
       "2    1\n",
       "3    1\n",
       "4    1\n",
       "5    1\n",
       "6    1\n",
       "7    1\n",
       "8    1\n",
       "9    1\n",
       "Name: tcp.flags_ack, dtype: int64"
      ]
     },
     "execution_count": 20,
     "metadata": {},
     "output_type": "execute_result"
    }
   ],
   "source": [
    "# boolean columns\n",
    "bool_columns = data.select_dtypes(include='bool').columns\n",
    "data[bool_columns] = data[bool_columns].astype(int)\n",
    "\n",
    "data['tcp.flags_ack'].head(10)"
   ]
  },
  {
   "cell_type": "code",
   "execution_count": 21,
   "id": "f97a945b",
   "metadata": {},
   "outputs": [
    {
     "data": {
      "text/plain": [
       "0    00110000\n",
       "1    00110000\n",
       "2    00110000\n",
       "3    00110000\n",
       "4    00110000\n",
       "Name: mqtt.hdrflags, dtype: object"
      ]
     },
     "execution_count": 21,
     "metadata": {},
     "output_type": "execute_result"
    }
   ],
   "source": [
    "# mqtt header flags convert to bin\n",
    "\n",
    "def hex_to_bin(hex_str):\n",
    "    \"\"\"\n",
    "    Converts a hex string (e.g., '0x30') to an 8-bit binary string (e.g., '00110000').\n",
    "    \"\"\"\n",
    "    if isinstance(hex_str, str) and hex_str.startswith('0x'):\n",
    "        try:\n",
    "            return format(int(hex_str, 16), '08b')\n",
    "        except ValueError:\n",
    "            return None\n",
    "    return None\n",
    "\n",
    "\n",
    "# Apply conversion\n",
    "data['mqtt.hdrflags'] = data['mqtt.hdrflags'].apply(hex_to_bin)\n",
    "data['mqtt.hdrflags'].head()"
   ]
  },
  {
   "cell_type": "code",
   "execution_count": 22,
   "id": "a020a493",
   "metadata": {},
   "outputs": [
    {
     "data": {
      "text/plain": [
       "attack_label\n",
       "dos           5833\n",
       "legitimate    2202\n",
       "falsedata     1702\n",
       "malformed      753\n",
       "Name: count, dtype: int64"
      ]
     },
     "execution_count": 22,
     "metadata": {},
     "output_type": "execute_result"
    }
   ],
   "source": [
    "data['attack_label'].value_counts()"
   ]
  },
  {
   "cell_type": "code",
   "execution_count": 23,
   "id": "92550954",
   "metadata": {},
   "outputs": [],
   "source": [
    "data.to_csv(\"dados_robo.csv\", index=False)"
   ]
  }
 ],
 "metadata": {
  "kernelspec": {
   "display_name": "Python 3",
   "language": "python",
   "name": "python3"
  },
  "language_info": {
   "codemirror_mode": {
    "name": "ipython",
    "version": 3
   },
   "file_extension": ".py",
   "mimetype": "text/x-python",
   "name": "python",
   "nbconvert_exporter": "python",
   "pygments_lexer": "ipython3",
   "version": "3.10.11"
  }
 },
 "nbformat": 4,
 "nbformat_minor": 5
}
