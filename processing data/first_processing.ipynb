{
 "cells": [
  {
   "cell_type": "markdown",
   "id": "3393110a",
   "metadata": {},
   "source": [
    "Inicio"
   ]
  },
  {
   "cell_type": "code",
   "execution_count": 1,
   "id": "8ae8e6e5",
   "metadata": {},
   "outputs": [],
   "source": [
    "import numpy as np\n",
    "import pandas as pd"
   ]
  },
  {
   "cell_type": "code",
   "execution_count": 2,
   "id": "09fe2eb8",
   "metadata": {},
   "outputs": [
    {
     "name": "stderr",
     "output_type": "stream",
     "text": [
      "C:\\Users\\mathe\\AppData\\Local\\Temp\\ipykernel_19504\\3054591381.py:1: DtypeWarning: Columns (25,36,37,38,49,51,53,58,64,68,71,72,74,75,76,77,78,80,81,84,85,86,90,91,92,93,95,96,97,98,99,100,101,102,106,107,108,109,110,111,112,113,115,116,124,127,129,133,134,139,145,147,159,161,162,163,165,166,168,169,170,171,172,175,176,178,180,182,186,188,189,190,191,195,199,200,204,205,207,208,210,212,214,215,217,219,220,222,223,224,225,229,230,231,232,235,236,238,240,246,247,248,249,250,252,253,254,255,256,258,259,260,261,263,264,273,274,277,280,282,283,284,285,286,288,296,297,298,299,300,302,303,308,310,313,317,319,320,322,324,325,329,330,332,333,338,341,344,348,352,353,355,359,360,361,362,363,364,365,366,368,370,372,376,379,381,388,394,395,396,397,399,400,401,403,404,405,406,407,408,409,410,411,414,416,418,419,420,421,422,423,424,425,426,429,430,432,435,439,440,441,444,445,449,450,451,454,455,456,459,460,461,462,463,464,465,466,468,473,475,478,482,483,484,486,489,490,491,492,495,497,498,502,503,505,506,510,514,518,519,522,527,531,535,536,538,540,541,542,543,544,545,546,548,549,550,551,552,553,555,557,560,561,563,568,569,570,572,573,575,576,578,580,581,585,586,589,590,592,595,596,597,598,599,600,601,602,608,609,610,612,613,614,615,617,618,619,623,624,628,629,630,632,633,634,635,636,637,638,639,640,641,643,644,645,647,648,649,652,653,654,657,658,659,660,661,662,668,669,670,671,672,675,676,677,678,679,680,681,682,683,686,687,689,693,694,696,700,703,705,706,708,709,713,715,716,717,718,719,720,721,722,723,724,725,726,727,728,730,731,732,733,738,740,741,742,743,745,746,748,750,752,754,755,757,758,759,760,761,762,763,764,765,766,768,772,775,776,777,779,783,785,786,788,789,791,792,796,797,800,801,802,803,807,808,809,810,811,812,813,814,815,816,817,818,819,820,821,822,828,829,830,831,834,835,836,837,838,839,840,841,843,845,846,848,852,853,855,858,859,860,861,862,863,864,865,866,869,875,876,877,878,881,882,883,884,885,886,887,888,891,893,898,901,903,904,905,906,908,911,912,913,914,915,916,919,920,923,924,928,930,933,934,935,936,938,942,946,947,948,949,950,951,952,953,954,955,956,957,958,959,960,961,963,964,965,966,967,969,970,971,972,973,974,975,978,979,980,981,982,983,984,985,987,989,990,991,992,993,994,995,996,998,1000,1001,1002,1005,1008,1010,1016,1017,1019,1020,1021,1022,1023,1024,1027,1028,1030,1031,1032) have mixed types. Specify dtype option on import or set low_memory=False.\n",
      "  data = pd.read_csv(\"C:/Users/mathe/OneDrive/Imagens/Área de Trabalho/dados_robo/coleted data/dados_pacotes_tudo.csv\")\n"
     ]
    }
   ],
   "source": [
    "data = pd.read_csv(\"C:/Users/mathe/OneDrive/Imagens/Área de Trabalho/dados_robo/coleted data/dados_pacotes_tudo.csv\")"
   ]
  },
  {
   "cell_type": "code",
   "execution_count": 3,
   "id": "46e3cc2f",
   "metadata": {},
   "outputs": [
    {
     "data": {
      "text/plain": [
       "(145034, 1033)"
      ]
     },
     "execution_count": 3,
     "metadata": {},
     "output_type": "execute_result"
    }
   ],
   "source": [
    "data.shape"
   ]
  },
  {
   "cell_type": "markdown",
   "id": "097b884f",
   "metadata": {},
   "source": [
    "# Rotulação dos dados"
   ]
  },
  {
   "cell_type": "code",
   "execution_count": 4,
   "id": "2e18e7e5",
   "metadata": {},
   "outputs": [
    {
     "data": {
      "text/plain": [
       "'\\nOs dados foram coletados e gerados com um sistema automático de marcação para rotulação dos dados.\\n\\nPara rotular os pacotes maliciosos, foram rotulados os IPs de dispositivos da rede e dos dispositivos adverários, em que: \\n\\nhost -> 10.42.0.1\\nrobô -> 10.42.0.246\\t\\nadversário -> 10.42.0.201,\\n\\nOs ips diferentes desses são considerados maliciosos também.\\n\\nPara demarcar os ataques pelo tempo, foi enviada uma mensagem para o tópico \"ataque/tipo\" do protocolo MQTT, em que antes do inicio e depois do fim uma mensagem é publicada\\npara sinalizar o tempo de início e fim de cada ataque.\\n\\nEx:\\n\\npublish.single(topic_mqtt, payload=f\"START:DoS\", hostname=broker_ip) # PUBLICAÇÃO DA MENSAGEM DE INICIO\\nprint(f\" -> START:DoS\")\\n\\nsubprocess.run([\\n\"wsl\",\\n\"bash\", \"-c\",\\n\"cd /mnt/c/Users/mathe/OneDrive/Documentos/GitHub/mqttsa && python3 mqttsa.py -fc 100 10.42.0.1\"\\n])\\ntime.sleep(1)\\n\\npublish.single(topic_mqtt, payload=f\"END:DoS\", hostname=broker_ip)\\nprint(f\" -> END:DoS\") # publicação da mensagem de fim # PUBLICAÇÃO DA MENSAGEM DE FIM\\n\\n'"
      ]
     },
     "execution_count": 4,
     "metadata": {},
     "output_type": "execute_result"
    }
   ],
   "source": [
    "\"\"\"\n",
    "Os dados foram coletados e gerados com um sistema automático de marcação para rotulação dos dados.\n",
    "\n",
    "Para rotular os pacotes maliciosos, foram rotulados os IPs de dispositivos da rede e dos dispositivos adverários, em que: \n",
    "\n",
    "host -> 10.42.0.1\n",
    "robô -> 10.42.0.246\t\n",
    "adversário -> 10.42.0.201,\n",
    "\n",
    "Os ips diferentes desses são considerados maliciosos também.\n",
    "\n",
    "Para demarcar os ataques pelo tempo, foi enviada uma mensagem para o tópico \"ataque/tipo\" do protocolo MQTT, em que antes do inicio e depois do fim uma mensagem é publicada\n",
    "para sinalizar o tempo de início e fim de cada ataque.\n",
    "\n",
    "Ex:\n",
    "\n",
    "publish.single(topic_mqtt, payload=f\"START:DoS\", hostname=broker_ip) # PUBLICAÇÃO DA MENSAGEM DE INICIO\n",
    "print(f\" -> START:DoS\")\n",
    "\n",
    "subprocess.run([\n",
    "\"wsl\",\n",
    "\"bash\", \"-c\",\n",
    "\"cd /mnt/c/Users/mathe/OneDrive/Documentos/GitHub/mqttsa && python3 mqttsa.py -fc 100 10.42.0.1\"\n",
    "])\n",
    "time.sleep(1)\n",
    "\n",
    "publish.single(topic_mqtt, payload=f\"END:DoS\", hostname=broker_ip)\n",
    "print(f\" -> END:DoS\") # publicação da mensagem de fim # PUBLICAÇÃO DA MENSAGEM DE FIM\n",
    "\n",
    "\"\"\""
   ]
  },
  {
   "cell_type": "markdown",
   "id": "5d7eaf3a",
   "metadata": {},
   "source": [
    "**==> Análise dos IP's**"
   ]
  },
  {
   "cell_type": "code",
   "execution_count": 5,
   "id": "13d82fe0",
   "metadata": {},
   "outputs": [
    {
     "data": {
      "text/plain": [
       "array(['10.42.0.246', '10.42.0.1', '10.42.0.217', '142.251.132.46',\n",
       "       '142.250.219.10', '10.42.0.201', '142.251.0.188', nan,\n",
       "       '142.251.135.131', '0.0.0.0', '46.151.194.98', '8.8.8.8',\n",
       "       '52.168.117.168', '104.225.10.226', '142.251.135.228',\n",
       "       '2.17.166.134', '45.54.49.1', '23.212.191.8', '172.172.255.216',\n",
       "       '54.232.34.114', '208.103.161.2', '47.241.30.51', '34.128.128.0',\n",
       "       '104.18.41.41', '142.250.0.84', '23.55.136.38', '35.190.80.1',\n",
       "       '57.144.164.3', '52.168.112.67', '20.42.65.91', '185.125.190.56',\n",
       "       '2.17.166.144', '185.125.188.58', '185.125.188.57',\n",
       "       '185.125.188.132', '142.250.75.67', '142.251.134.170',\n",
       "       '108.177.123.188', '119.8.229.131', '57.144.165.33',\n",
       "       '172.217.28.132', '142.251.0.84', '172.217.28.163',\n",
       "       '142.251.129.234', '13.107.246.33', '172.172.255.218',\n",
       "       '142.251.135.37', '142.250.218.238', '52.92.192.72',\n",
       "       '172.64.146.215', '142.250.218.234', '13.107.139.11',\n",
       "       '20.189.173.16', '20.50.80.209', '20.189.173.12', '20.189.173.13',\n",
       "       '172.217.29.42', '142.250.219.142', '13.89.179.8', '34.202.95.224',\n",
       "       '172.217.29.129', '20.69.137.228', '172.217.30.234', '31.13.85.40',\n",
       "       '57.144.164.192', '151.101.129.229', '57.144.164.144',\n",
       "       '57.144.164.145', '157.240.12.54', '200.160.7.193',\n",
       "       '200.143.247.225', '31.13.91.60', '200.133.23.98', '157.240.12.53',\n",
       "       '157.240.222.60', '31.13.85.49', '57.144.164.141',\n",
       "       '172.217.29.174', '142.250.78.138', '142.250.219.234',\n",
       "       '142.250.219.214', '172.217.28.138', '172.217.29.65',\n",
       "       '104.18.36.169', '104.16.175.226', '142.250.218.227',\n",
       "       '13.107.253.33', '216.239.32.223', '54.94.183.148', '2.20.130.54',\n",
       "       '23.212.191.15', '8.8.4.4', '204.79.197.203', '104.225.10.227',\n",
       "       '23.196.224.179', '2.17.162.17', '2.17.166.150', '2.17.166.141',\n",
       "       '142.250.78.170', '104.16.174.226', '142.251.132.35',\n",
       "       '172.217.28.74', '20.42.65.84', '52.168.117.170', '52.104.107.39',\n",
       "       '142.250.219.42', '142.251.132.42', '52.123.128.14',\n",
       "       '52.167.17.97', '142.250.219.196', '20.106.86.13', '208.103.161.1'],\n",
       "      dtype=object)"
      ]
     },
     "execution_count": 5,
     "metadata": {},
     "output_type": "execute_result"
    }
   ],
   "source": [
    "# campos de ips\n",
    "\n",
    "# exibição de todos os ips capturados\n",
    "data['ip.src'].unique() # ip publicador"
   ]
  },
  {
   "cell_type": "code",
   "execution_count": 6,
   "id": "3c27391c",
   "metadata": {},
   "outputs": [
    {
     "data": {
      "text/plain": [
       "array(['10.42.0.1', '10.42.0.246', '10.42.0.217', '10.42.0.201',\n",
       "       '142.251.132.46', '142.250.219.10', '142.251.0.188', nan,\n",
       "       '142.251.135.131', '255.255.255.255', '46.151.194.98', '8.8.8.8',\n",
       "       '52.168.117.168', '104.225.10.226', '142.251.135.228',\n",
       "       '2.17.166.134', '45.54.49.1', '23.212.191.8', '172.172.255.216',\n",
       "       '54.232.34.114', '208.103.161.2', '47.241.30.51', '34.128.128.0',\n",
       "       '104.18.41.41', '142.250.0.84', '23.55.136.38', '35.190.80.1',\n",
       "       '57.144.164.3', '52.168.112.67', '20.42.65.91', '185.125.190.56',\n",
       "       '2.17.166.144', '185.125.188.58', '185.125.188.132',\n",
       "       '185.125.188.57', '239.255.255.250', '157.240.12.53',\n",
       "       '142.250.75.67', '142.251.134.170', '108.177.123.188',\n",
       "       '224.0.0.251', '119.8.229.131', '57.144.165.33', '172.217.28.132',\n",
       "       '142.251.0.84', '172.217.28.163', '142.251.129.234',\n",
       "       '13.107.246.33', '172.172.255.218', '142.251.135.37',\n",
       "       '142.250.218.238', '52.92.192.72', '172.64.146.215',\n",
       "       '142.250.218.234', '13.107.139.11', '172.217.162.170',\n",
       "       '20.189.173.16', '20.50.80.209', '20.189.173.12', '20.189.173.13',\n",
       "       '172.217.29.42', '142.250.219.142', '13.89.179.8', '34.202.95.224',\n",
       "       '172.217.29.129', '20.69.137.228', '172.217.30.234', '31.13.85.40',\n",
       "       '57.144.164.192', '151.101.129.229', '57.144.164.144',\n",
       "       '57.144.164.145', '200.143.247.225', '157.240.12.54',\n",
       "       '200.160.7.193', '200.133.23.98', '31.13.91.60', '157.240.222.60',\n",
       "       '31.13.85.49', '57.144.164.141', '172.217.29.174',\n",
       "       '142.250.78.138', '142.250.219.234', '142.250.219.214',\n",
       "       '172.217.28.138', '172.217.29.65', '104.18.36.169',\n",
       "       '104.16.175.226', '142.250.218.227', '13.107.253.33',\n",
       "       '216.239.32.223', '54.94.183.148', '2.20.130.54', '23.212.191.15',\n",
       "       '8.8.4.4', '204.79.197.203', '104.225.10.227', '23.196.224.179',\n",
       "       '2.17.162.17', '2.17.166.150', '2.17.166.141', '142.250.78.170',\n",
       "       '104.16.174.226', '142.251.132.35', '172.217.28.74', '20.42.65.84',\n",
       "       '52.168.117.170', '52.104.107.39', '224.0.0.22', '224.0.0.252',\n",
       "       '142.250.219.42', '142.251.132.42', '52.123.128.14',\n",
       "       '52.167.17.97', '142.250.219.196', '20.106.86.13', '208.103.161.1'],\n",
       "      dtype=object)"
      ]
     },
     "execution_count": 6,
     "metadata": {},
     "output_type": "execute_result"
    }
   ],
   "source": [
    "# ip destinatário\n",
    "data['ip.dst'].unique()"
   ]
  },
  {
   "cell_type": "code",
   "execution_count": 7,
   "id": "fff529ac",
   "metadata": {},
   "outputs": [
    {
     "name": "stdout",
     "output_type": "stream",
     "text": [
      "(10490, 1033)\n",
      "\n",
      "\n",
      "(145034, 1033)\n"
     ]
    }
   ],
   "source": [
    "# somente pacotes mqtt\n",
    "lines = data[pd.notna(data['mqtt.msgtype'])].index.tolist() # armazena numa lista os pacotes que existem somente campos mqtt\n",
    "\n",
    "# novo dataframe somente com campos mqtt\n",
    "data_mqtt = data.loc[lines]\n",
    "\n",
    "print(data_mqtt.shape)\n",
    "print(\"\\n\")\n",
    "print(data.shape)"
   ]
  },
  {
   "cell_type": "code",
   "execution_count": 8,
   "id": "bd87d99b",
   "metadata": {},
   "outputs": [
    {
     "data": {
      "text/plain": [
       "array(['10.42.0.246', '10.42.0.1', '10.42.0.201'], dtype=object)"
      ]
     },
     "execution_count": 8,
     "metadata": {},
     "output_type": "execute_result"
    }
   ],
   "source": [
    "# apenas com campos mqtt\n",
    "data_mqtt['ip.src'].unique()"
   ]
  },
  {
   "cell_type": "code",
   "execution_count": 9,
   "id": "dc069c86",
   "metadata": {},
   "outputs": [
    {
     "data": {
      "text/plain": [
       "array([ 3.,  1.,  2.,  8.,  9., 14., 12., 13.,  4.,  5.,  6.,  7.])"
      ]
     },
     "execution_count": 9,
     "metadata": {},
     "output_type": "execute_result"
    }
   ],
   "source": [
    "# tipos de pacote mqtt\n",
    "data_mqtt['mqtt.msgtype'].unique()"
   ]
  },
  {
   "cell_type": "code",
   "execution_count": 10,
   "id": "6e9bfd65",
   "metadata": {},
   "outputs": [
    {
     "name": "stdout",
     "output_type": "stream",
     "text": [
      "                                             mqtt.msg\n",
      "0     7b:22:76:65:6c:6f:63:69:64:61:64:65:22:3a:30:7d\n",
      "10  7b:22:76:65:6c:6f:63:69:64:61:64:65:22:3a:36:3...\n",
      "15  7b:22:76:65:6c:6f:63:69:64:61:64:65:22:3a:36:3...\n",
      "42  7b:22:76:65:6c:6f:63:69:64:61:64:65:22:3a:36:3...\n",
      "43  7b:22:76:65:6c:6f:63:69:64:61:64:65:22:3a:31:3...\n",
      "\n",
      "\n",
      "                                            mqtt.msg\n",
      "0    7b:22:76:65:6c:6f:63:69:64:61:64:65:22:3a:30:7d\n",
      "1  7b:22:76:65:6c:6f:63:69:64:61:64:65:22:3a:36:3...\n",
      "2  7b:22:76:65:6c:6f:63:69:64:61:64:65:22:3a:36:3...\n",
      "3  7b:22:76:65:6c:6f:63:69:64:61:64:65:22:3a:36:3...\n",
      "4  7b:22:76:65:6c:6f:63:69:64:61:64:65:22:3a:31:3...\n"
     ]
    }
   ],
   "source": [
    "print(data_mqtt[['mqtt.msg']].head())\n",
    "data_mqtt.reset_index(drop=True, inplace=True) # pra ajeitar os indices\n",
    "print(\"\\n\")\n",
    "print(data_mqtt[['mqtt.msg']].head())"
   ]
  },
  {
   "cell_type": "markdown",
   "id": "ef3557bf",
   "metadata": {},
   "source": [
    "**==> Análise das mensagens MQTT**"
   ]
  },
  {
   "cell_type": "code",
   "execution_count": 11,
   "id": "05aabaea",
   "metadata": {},
   "outputs": [
    {
     "name": "stdout",
     "output_type": "stream",
     "text": [
      "                           mqtt.msg\n",
      "0                  {\"velocidade\":0}\n",
      "1    {\"velocidade\":65,\"angulo\":123}\n",
      "2    {\"velocidade\":65,\"angulo\":123}\n",
      "3    {\"velocidade\":65,\"angulo\":123}\n",
      "4  {\"velocidade\":100,\"angulo\":-165}\n",
      "5  {\"velocidade\":100,\"angulo\":-163}\n",
      "6  {\"velocidade\":100,\"angulo\":-161}\n",
      "7  {\"velocidade\":100,\"angulo\":-158}\n",
      "8  {\"velocidade\":100,\"angulo\":-157}\n",
      "9  {\"velocidade\":100,\"angulo\":-155}\n"
     ]
    }
   ],
   "source": [
    "# funcao para converter de hex para string\n",
    "def hex_to_ascii(hex_str):\n",
    "    try:\n",
    "        # Remove espaços e \":\" e converte\n",
    "        clean = hex_str.replace(\":\", \"\").replace(\" \", \"\")\n",
    "        return bytes.fromhex(clean).decode(\"utf-8\")\n",
    "    except Exception:\n",
    "        return None  # Para mensagens inválidas, retorna None\n",
    "\n",
    "data_mqtt['mqtt.msg'] = data_mqtt['mqtt.msg'].apply(hex_to_ascii)\n",
    "print(data_mqtt[['mqtt.msg']].head(10))"
   ]
  },
  {
   "cell_type": "markdown",
   "id": "eef508e2",
   "metadata": {},
   "source": [
    "**==> Criação dos novos tópicos: velocidade, angulo e bateria**"
   ]
  },
  {
   "cell_type": "code",
   "execution_count": 12,
   "id": "0f3824a1",
   "metadata": {},
   "outputs": [
    {
     "data": {
      "text/plain": [
       "mqtt.msg\n",
       "{\"velocidade\":0}                    647\n",
       "DoSMessage6                          42\n",
       "DoSMessage5                          37\n",
       "{\"velocidade\":0,\"angulo\":0}          29\n",
       "{\"velocidade\":100,\"angulo\":-179}     27\n",
       "                                   ... \n",
       "{\"velocidade\":29,\"angulo\":-7}         1\n",
       "{\"velocidade\":100,\"angulo\":143}       1\n",
       "{\"velocidade\":100,\"angulo\":145}       1\n",
       "{\"velocidade\":98,\"angulo\":-8}         1\n",
       "{\"velocidade\":100,\"angulo\":-6}        1\n",
       "Name: count, Length: 1314, dtype: int64"
      ]
     },
     "execution_count": 12,
     "metadata": {},
     "output_type": "execute_result"
    }
   ],
   "source": [
    "data_mqtt['mqtt.msg'].value_counts()"
   ]
  },
  {
   "cell_type": "code",
   "execution_count": 13,
   "id": "7baf554a",
   "metadata": {},
   "outputs": [],
   "source": [
    "# colunas de velocidade, ângulo e bateria\n",
    "\n",
    "import json\n",
    "\n",
    "# Função para extrair dados do campo mqtt.msg\n",
    "def parse_payload(msg):\n",
    "    try:\n",
    "        # Tenta carregar como JSON\n",
    "        payload = json.loads(msg)\n",
    "        \n",
    "        # Verifica se é um dicionário\n",
    "        if isinstance(payload, dict):\n",
    "            return payload\n",
    "        else:\n",
    "            return {}\n",
    "    except Exception:\n",
    "        # Caso a mensagem não seja JSON válido\n",
    "        return {}\n",
    "\n",
    "# Aplica a função a todas as mensagens\n",
    "parsed = data_mqtt['mqtt.msg'].apply(parse_payload)\n",
    "\n",
    "# Converte a série de dicionários em um DataFrame (colunas como velocidade, angulo, vbat, etc.)\n",
    "parsed_df = pd.json_normalize(parsed)\n",
    "\n",
    "# Junta com o DataFrame original\n",
    "data_mqtt = pd.concat([data_mqtt, parsed_df], axis=1)\n"
   ]
  },
  {
   "cell_type": "code",
   "execution_count": 14,
   "id": "5dbd87bc",
   "metadata": {},
   "outputs": [
    {
     "data": {
      "text/plain": [
       "array([  0.,  65., 100.,  nan,  81.,  82.,  83.,  85.,  88.,  90.,  25.,\n",
       "        24.,  39.,  52.,  73.,  96.,  16.,  46.,  53.,  49.,  33.,  15.,\n",
       "         6.,  22.,  37.,  45.,  55.,  63.,  69.,  76.,  79.,  89.,  92.,\n",
       "         9.,  77.,  94.,  35.,  29.,  21.,  18.,  19.,  26.,  34.,  43.,\n",
       "        68.,  84.,  27.,  11.,  91.,  71.,  93.,  13.,  12.,  47.,  99.,\n",
       "        38.,  30.,  42.,  51.,  58.,  86.,  14.,  72.,  78.,  95.,  59.,\n",
       "        62.,  67.,  75.,  80.,  98.,  57.,  48.,  54.,  56.,  60.,  64.,\n",
       "        70.,  36.,  40.,  66.,  74.,  32.,  28.,  87.,  31.,  17.,   1.,\n",
       "         7.,  61.,  97.,   2.,  50.,  20.,  23.,  44.,  41.,  10.,   5.,\n",
       "         8.])"
      ]
     },
     "execution_count": 14,
     "metadata": {},
     "output_type": "execute_result"
    }
   ],
   "source": [
    "data_mqtt['velocidade'].unique()"
   ]
  },
  {
   "cell_type": "markdown",
   "id": "d0f30646",
   "metadata": {},
   "source": [
    "**==> Rotulação de pacotes com base no IP**"
   ]
  },
  {
   "cell_type": "code",
   "execution_count": 15,
   "id": "36518131",
   "metadata": {},
   "outputs": [
    {
     "data": {
      "text/plain": [
       "packet\n",
       "1    8288\n",
       "0    2202\n",
       "Name: count, dtype: int64"
      ]
     },
     "execution_count": 15,
     "metadata": {},
     "output_type": "execute_result"
    }
   ],
   "source": [
    "# rotulação com base no ip\n",
    "\n",
    "ip_malicioso = '10.42.0.201' # malicious ip\n",
    "\n",
    "data_mqtt['packet'] = 0 # collumn to set attack or not\n",
    "\n",
    "data_mqtt.loc[\n",
    "    (data_mqtt['ip.src'] == ip_malicioso) | (data_mqtt['ip.dst'] == ip_malicioso),\n",
    "    'packet'\n",
    "] = 1\n",
    "# 0 -> without attack\n",
    "# 1 -> with attack\n",
    "\n",
    "data_mqtt['packet'].value_counts()"
   ]
  },
  {
   "cell_type": "markdown",
   "id": "1605bba6",
   "metadata": {},
   "source": [
    "**==> Marcação do tempo de início e fim dos ataques**"
   ]
  },
  {
   "cell_type": "code",
   "execution_count": 16,
   "id": "1e4de636",
   "metadata": {},
   "outputs": [],
   "source": [
    "# rotulação com base no tempo\n",
    "\n",
    "# analise do inicio e fim do ataque DOS, MALFORMED and FALSEDATA\n",
    "\n",
    "data_mqtt['traffic'] = 'legitimate' # nova coluna para indicar o tipo de tráfico em determinado periodo\n",
    "current_attack = None\n",
    "\n",
    "for i in data_mqtt.index:\n",
    "    msg = data_mqtt['mqtt.msg'][i]\n",
    "\n",
    "    if isinstance(msg, str):\n",
    "        if msg.startswith(\"START:\"):\n",
    "            current_attack = msg.split(\":\")[1].lower()\n",
    "        elif msg.startswith(\"END:\"):\n",
    "            current_attack = None\n",
    "\n",
    "    if current_attack:\n",
    "        data_mqtt.at[i, 'traffic'] = current_attack\n",
    "    else:\n",
    "        data_mqtt.at[i, 'traffic'] = 'legitimate'"
   ]
  },
  {
   "cell_type": "code",
   "execution_count": 17,
   "id": "a742c5ad",
   "metadata": {},
   "outputs": [
    {
     "data": {
      "text/plain": [
       "traffic\n",
       "dos           6281\n",
       "falsedata     1815\n",
       "malformed     1483\n",
       "legitimate     911\n",
       "Name: count, dtype: int64"
      ]
     },
     "execution_count": 17,
     "metadata": {},
     "output_type": "execute_result"
    }
   ],
   "source": [
    "data_mqtt['traffic'].value_counts()"
   ]
  },
  {
   "cell_type": "code",
   "execution_count": 18,
   "id": "3049375f",
   "metadata": {},
   "outputs": [
    {
     "name": "stdout",
     "output_type": "stream",
     "text": [
      "attack_label\n",
      "dos           5829\n",
      "legitimate    2214\n",
      "falsedata     1698\n",
      "malformed      749\n",
      "Name: count, dtype: int64\n"
     ]
    }
   ],
   "source": [
    "# final label\n",
    "data_mqtt['attack_label'] = 'legitimate'\n",
    "\n",
    "# condition of the label -> packet and traffic must be consider 'attack'\n",
    "cond_attack = (data_mqtt['packet'] == 1) & (data_mqtt['traffic'] != 'legitimate')\n",
    "data_mqtt.loc[cond_attack, 'attack_label'] = data_mqtt.loc[cond_attack, 'traffic']\n",
    "\n",
    "print(data_mqtt['attack_label'].value_counts())"
   ]
  },
  {
   "cell_type": "code",
   "execution_count": 19,
   "id": "74205bd7",
   "metadata": {},
   "outputs": [
    {
     "name": "stdout",
     "output_type": "stream",
     "text": [
      "[472, 473, 6755, 6756, 6769, 6770, 8254, 8255, 8270, 8271, 10087, 10088]\n"
     ]
    }
   ],
   "source": [
    "rows = []\n",
    "\n",
    "for i in data_mqtt.index:\n",
    "    if ((data_mqtt['ip.src'][i] == '10.42.0.201' or data_mqtt['ip.dst'][i] == '10.42.0.201')\n",
    "        and data_mqtt['attack_label'][i] == 'legitimate'):\n",
    "        rows.append(i)\n",
    "\n",
    "print(rows)\n"
   ]
  },
  {
   "cell_type": "code",
   "execution_count": 20,
   "id": "4f342b11",
   "metadata": {},
   "outputs": [
    {
     "name": "stdout",
     "output_type": "stream",
     "text": [
      "Requirement already satisfied: tabulate in c:\\users\\mathe\\appdata\\local\\programs\\python\\python310\\lib\\site-packages (0.9.0)\n"
     ]
    },
    {
     "name": "stderr",
     "output_type": "stream",
     "text": [
      "\n",
      "[notice] A new release of pip is available: 25.1.1 -> 25.2\n",
      "[notice] To update, run: python.exe -m pip install --upgrade pip\n"
     ]
    }
   ],
   "source": [
    "!pip install tabulate"
   ]
  },
  {
   "cell_type": "code",
   "execution_count": 21,
   "id": "0d61136a",
   "metadata": {},
   "outputs": [
    {
     "name": "stdout",
     "output_type": "stream",
     "text": [
      "╒═══════╤═══════════════════════╤═════════════╤═════════════╤═════════════╤═══════════╤═════════════════╤═════════════════╤═════════════════╤═════════════════╤════════════════╤═════════════════╤══════════════════╤═════════════════╤═══════════════════╤═════════════════╤═════════════════╤══════════════════╤════════════════╤════════════════╤═════════════════╤════════════╤═══════════════╤════════════╤══════════════╤══════════════╤══════════╤════════╤════════════════╕\n",
      "│       │   frame.time_relative │ ip.src      │ ip.dst      │ tcp.flags   │   tcp.len │ tcp.flags_ack   │ tcp.flags_syn   │ tcp.flags_fin   │ tcp.flags_urg   │ tcp.flags_ae   │ tcp.flags_cwr   │ tcp.flags_push   │ tcp.flags_res   │ tcp.flags_reset   │ tcp.flags_ece   │ tcp.flags_str   │   tcp.time_delta │   mqtt.msgtype │   mqtt.dupflag │ mqtt.hdrflags   │   mqtt.len │ mqtt.msg      │   mqtt.qos │   mqtt.msgid │   velocidade │   angulo │   vbat │ attack_label   │\n",
      "╞═══════╪═══════════════════════╪═════════════╪═════════════╪═════════════╪═══════════╪═════════════════╪═════════════════╪═════════════════╪═════════════════╪════════════════╪═════════════════╪══════════════════╪═════════════════╪═══════════════════╪═════════════════╪═════════════════╪══════════════════╪════════════════╪════════════════╪═════════════════╪════════════╪═══════════════╪════════════╪══════════════╪══════════════╪══════════╪════════╪════════════════╡\n",
      "│   472 │               64.09   │ 10.42.0.201 │ 10.42.0.1   │ 0x0018      │        14 │ True            │ False           │ False           │ False           │ False          │ False           │ True             │ False           │ False             │ False           │ ·······AP···    │       0.0118921  │              1 │            nan │ 0x10            │         12 │               │        nan │          nan │          nan │      nan │    nan │ legitimate     │\n",
      "├───────┼───────────────────────┼─────────────┼─────────────┼─────────────┼───────────┼─────────────────┼─────────────────┼─────────────────┼─────────────────┼────────────────┼─────────────────┼──────────────────┼─────────────────┼───────────────────┼─────────────────┼─────────────────┼──────────────────┼────────────────┼────────────────┼─────────────────┼────────────┼───────────────┼────────────┼──────────────┼──────────────┼──────────┼────────┼────────────────┤\n",
      "│   473 │               64.0922 │ 10.42.0.1   │ 10.42.0.201 │ 0x0018      │         4 │ True            │ False           │ False           │ False           │ False          │ False           │ True             │ False           │ False             │ False           │ ·······AP···    │       0.00222566 │              2 │            nan │ 0x20            │          2 │               │        nan │          nan │          nan │      nan │    nan │ legitimate     │\n",
      "├───────┼───────────────────────┼─────────────┼─────────────┼─────────────┼───────────┼─────────────────┼─────────────────┼─────────────────┼─────────────────┼────────────────┼─────────────────┼──────────────────┼─────────────────┼───────────────────┼─────────────────┼─────────────────┼──────────────────┼────────────────┼────────────────┼─────────────────┼────────────┼───────────────┼────────────┼──────────────┼──────────────┼──────────┼────────┼────────────────┤\n",
      "│  6755 │              274.026  │ 10.42.0.201 │ 10.42.0.1   │ 0x0018      │        22 │ True            │ False           │ False           │ False           │ False          │ False           │ True             │ False           │ False             │ False           │ ·······AP···    │       0.0024538  │              3 │              0 │ 0x30            │         20 │ END:DoS       │          0 │          nan │          nan │      nan │    nan │ legitimate     │\n",
      "├───────┼───────────────────────┼─────────────┼─────────────┼─────────────┼───────────┼─────────────────┼─────────────────┼─────────────────┼─────────────────┼────────────────┼─────────────────┼──────────────────┼─────────────────┼───────────────────┼─────────────────┼─────────────────┼──────────────────┼────────────────┼────────────────┼─────────────────┼────────────┼───────────────┼────────────┼──────────────┼──────────────┼──────────┼────────┼────────────────┤\n",
      "│  6756 │              274.026  │ 10.42.0.201 │ 10.42.0.1   │ 0x0019      │         2 │ True            │ False           │ True            │ False           │ False          │ False           │ True             │ False           │ False             │ False           │ ·······AP··F    │       3.19e-07   │             14 │            nan │ 0xe0            │          0 │               │        nan │          nan │          nan │      nan │    nan │ legitimate     │\n",
      "├───────┼───────────────────────┼─────────────┼─────────────┼─────────────┼───────────┼─────────────────┼─────────────────┼─────────────────┼─────────────────┼────────────────┼─────────────────┼──────────────────┼─────────────────┼───────────────────┼─────────────────┼─────────────────┼──────────────────┼────────────────┼────────────────┼─────────────────┼────────────┼───────────────┼────────────┼──────────────┼──────────────┼──────────┼────────┼────────────────┤\n",
      "│  6769 │              284.03   │ 10.42.0.201 │ 10.42.0.1   │ 0x0018      │        14 │ True            │ False           │ False           │ False           │ False          │ False           │ True             │ False           │ False             │ False           │ ·······AP···    │       3.81e-07   │              1 │            nan │ 0x10            │         12 │               │        nan │          nan │          nan │      nan │    nan │ legitimate     │\n",
      "├───────┼───────────────────────┼─────────────┼─────────────┼─────────────┼───────────┼─────────────────┼─────────────────┼─────────────────┼─────────────────┼────────────────┼─────────────────┼──────────────────┼─────────────────┼───────────────────┼─────────────────┼─────────────────┼──────────────────┼────────────────┼────────────────┼─────────────────┼────────────┼───────────────┼────────────┼──────────────┼──────────────┼──────────┼────────┼────────────────┤\n",
      "│  6770 │              284.033  │ 10.42.0.1   │ 10.42.0.201 │ 0x0018      │         4 │ True            │ False           │ False           │ False           │ False          │ False           │ True             │ False           │ False             │ False           │ ·······AP···    │       0.00272969 │              2 │            nan │ 0x20            │          2 │               │        nan │          nan │          nan │      nan │    nan │ legitimate     │\n",
      "├───────┼───────────────────────┼─────────────┼─────────────┼─────────────┼───────────┼─────────────────┼─────────────────┼─────────────────┼─────────────────┼────────────────┼─────────────────┼──────────────────┼─────────────────┼───────────────────┼─────────────────┼─────────────────┼──────────────────┼────────────────┼────────────────┼─────────────────┼────────────┼───────────────┼────────────┼──────────────┼──────────────┼──────────┼────────┼────────────────┤\n",
      "│  8254 │              743.052  │ 10.42.0.201 │ 10.42.0.1   │ 0x0018      │        28 │ True            │ False           │ False           │ False           │ False          │ False           │ True             │ False           │ False             │ False           │ ·······AP···    │       0.00503169 │              3 │              0 │ 0x30            │         26 │ END:Malformed │          0 │          nan │          nan │      nan │    nan │ legitimate     │\n",
      "├───────┼───────────────────────┼─────────────┼─────────────┼─────────────┼───────────┼─────────────────┼─────────────────┼─────────────────┼─────────────────┼────────────────┼─────────────────┼──────────────────┼─────────────────┼───────────────────┼─────────────────┼─────────────────┼──────────────────┼────────────────┼────────────────┼─────────────────┼────────────┼───────────────┼────────────┼──────────────┼──────────────┼──────────┼────────┼────────────────┤\n",
      "│  8255 │              743.052  │ 10.42.0.201 │ 10.42.0.1   │ 0x0019      │         2 │ True            │ False           │ True            │ False           │ False          │ False           │ True             │ False           │ False             │ False           │ ·······AP··F    │       2.87e-07   │             14 │            nan │ 0xe0            │          0 │               │        nan │          nan │          nan │      nan │    nan │ legitimate     │\n",
      "├───────┼───────────────────────┼─────────────┼─────────────┼─────────────┼───────────┼─────────────────┼─────────────────┼─────────────────┼─────────────────┼────────────────┼─────────────────┼──────────────────┼─────────────────┼───────────────────┼─────────────────┼─────────────────┼──────────────────┼────────────────┼────────────────┼─────────────────┼────────────┼───────────────┼────────────┼──────────────┼──────────────┼──────────┼────────┼────────────────┤\n",
      "│  8270 │              753.079  │ 10.42.0.201 │ 10.42.0.1   │ 0x0018      │        14 │ True            │ False           │ False           │ False           │ False          │ False           │ True             │ False           │ False             │ False           │ ·······AP···    │       0.0120133  │              1 │            nan │ 0x10            │         12 │               │        nan │          nan │          nan │      nan │    nan │ legitimate     │\n",
      "├───────┼───────────────────────┼─────────────┼─────────────┼─────────────┼───────────┼─────────────────┼─────────────────┼─────────────────┼─────────────────┼────────────────┼─────────────────┼──────────────────┼─────────────────┼───────────────────┼─────────────────┼─────────────────┼──────────────────┼────────────────┼────────────────┼─────────────────┼────────────┼───────────────┼────────────┼──────────────┼──────────────┼──────────┼────────┼────────────────┤\n",
      "│  8271 │              753.081  │ 10.42.0.1   │ 10.42.0.201 │ 0x0018      │         4 │ True            │ False           │ False           │ False           │ False          │ False           │ True             │ False           │ False             │ False           │ ·······AP···    │       0.00224818 │              2 │            nan │ 0x20            │          2 │               │        nan │          nan │          nan │      nan │    nan │ legitimate     │\n",
      "├───────┼───────────────────────┼─────────────┼─────────────┼─────────────┼───────────┼─────────────────┼─────────────────┼─────────────────┼─────────────────┼────────────────┼─────────────────┼──────────────────┼─────────────────┼───────────────────┼─────────────────┼─────────────────┼──────────────────┼────────────────┼────────────────┼─────────────────┼────────────┼───────────────┼────────────┼──────────────┼──────────────┼──────────┼────────┼────────────────┤\n",
      "│ 10087 │              785.016  │ 10.42.0.201 │ 10.42.0.1   │ 0x0018      │        28 │ True            │ False           │ False           │ False           │ False          │ False           │ True             │ False           │ False             │ False           │ ·······AP···    │       0.00353272 │              3 │              0 │ 0x30            │         26 │ END:Falsedata │          0 │          nan │          nan │      nan │    nan │ legitimate     │\n",
      "├───────┼───────────────────────┼─────────────┼─────────────┼─────────────┼───────────┼─────────────────┼─────────────────┼─────────────────┼─────────────────┼────────────────┼─────────────────┼──────────────────┼─────────────────┼───────────────────┼─────────────────┼─────────────────┼──────────────────┼────────────────┼────────────────┼─────────────────┼────────────┼───────────────┼────────────┼──────────────┼──────────────┼──────────┼────────┼────────────────┤\n",
      "│ 10088 │              785.016  │ 10.42.0.201 │ 10.42.0.1   │ 0x0019      │         2 │ True            │ False           │ True            │ False           │ False          │ False           │ True             │ False           │ False             │ False           │ ·······AP··F    │       3.08e-07   │             14 │            nan │ 0xe0            │          0 │               │        nan │          nan │          nan │      nan │    nan │ legitimate     │\n",
      "╘═══════╧═══════════════════════╧═════════════╧═════════════╧═════════════╧═══════════╧═════════════════╧═════════════════╧═════════════════╧═════════════════╧════════════════╧═════════════════╧══════════════════╧═════════════════╧═══════════════════╧═════════════════╧═════════════════╧══════════════════╧════════════════╧════════════════╧═════════════════╧════════════╧═══════════════╧════════════╧══════════════╧══════════════╧══════════╧════════╧════════════════╛\n"
     ]
    }
   ],
   "source": [
    "from tabulate import tabulate\n",
    "\n",
    "rows = [472, 473, 6755, 6756, 6769, 6770, 8254, 8255, 8270, 8271, 10087, 10088]\n",
    "\n",
    "# show the rows \n",
    "df_rows = data_mqtt.loc[rows]\n",
    "\n",
    "selected_columns = [\n",
    "    'frame.time_relative', 'ip.src', 'ip.dst','tcp.flags', 'tcp.len', 'tcp.flags_ack', 'tcp.flags_syn',\n",
    "    'tcp.flags_fin', 'tcp.flags_urg', 'tcp.flags_ae', 'tcp.flags_cwr',\n",
    "    'tcp.flags_push', 'tcp.flags_res', 'tcp.flags_reset', 'tcp.flags_ece',\n",
    "    'tcp.flags_str', 'tcp.time_delta', 'mqtt.msgtype', 'mqtt.dupflag', 'mqtt.hdrflags',\n",
    "    'mqtt.len', 'mqtt.msg', 'mqtt.qos', 'mqtt.msgid', 'velocidade', 'angulo', 'vbat', 'attack_label'\n",
    "]\n",
    "\n",
    "available_columns = [col for col in selected_columns if col in df_rows.columns]\n",
    "df_rows = df_rows[available_columns]\n",
    "\n",
    "print(tabulate(df_rows, headers='keys', tablefmt='fancy_grid', showindex=True))"
   ]
  },
  {
   "cell_type": "markdown",
   "id": "840cc631",
   "metadata": {},
   "source": [
    "Before executing an attack (triggered via command line), the attacking machine sends \n",
    "an MQTT PUBLISH message containing a marker in the format \"START:<attack_type>\" \n",
    "to define the time window in which the attack will take place.\n",
    "\n",
    "For example, before starting a DoS attack, it sends \"START:dos\", and after the attack \n",
    "finishes, it sends \"END:dos\".\n",
    "\n",
    "However, in some cases, packets at the end of the attack are not labeled correctly. \n",
    "By analyzing the 'mqtt.msgtype' field, it is possible to see that the sequence at the \n",
    "end always follows the same pattern:\n",
    "  CONNECT (1) → CONNACK (2) → PUBLISH (3) → DISCONNECT (14)\n",
    "\n",
    "This sequence consistently occurs at the end of the attack."
   ]
  },
  {
   "cell_type": "markdown",
   "id": "f9f6c0f2",
   "metadata": {},
   "source": [
    "To do this, we will label these packets according to their attacks"
   ]
  },
  {
   "cell_type": "code",
   "execution_count": 23,
   "id": "a8fc19e0",
   "metadata": {},
   "outputs": [
    {
     "name": "stdout",
     "output_type": "stream",
     "text": [
      "dos\n",
      "dos\n",
      "malformed\n",
      "falsedata\n"
     ]
    }
   ],
   "source": [
    "# labeling packets\n",
    "\n",
    "# dos -> [472, 473, 6755, 6756]\n",
    "# malformed -> [6769, 6770, 8254, 8255]\n",
    "# falsedata -> [8270, 8271, 10087, 10088]\n",
    "\n",
    "\n",
    "dos_idx = [472, 473, 6755, 6756]\n",
    "malformed_idx = [6769, 6770, 8254, 8255]\n",
    "falsedata_idx = [8270, 8271, 10087, 10088]\n",
    "\n",
    "# labeling\n",
    "data_mqtt.loc[dos_idx, 'attack_label'] = 'dos'\n",
    "data_mqtt.loc[malformed_idx, 'attack_label'] = 'malformed'\n",
    "data_mqtt.loc[falsedata_idx, 'attack_label'] = 'falsedata'\n",
    "\n",
    "print(data_mqtt['attack_label'][472])\n",
    "print(data_mqtt['attack_label'][6755])\n",
    "print(data_mqtt['attack_label'][8254])\n",
    "print(data_mqtt['attack_label'][10088])"
   ]
  },
  {
   "cell_type": "markdown",
   "id": "23a73a50",
   "metadata": {},
   "source": [
    "# Columns filter and final data"
   ]
  },
  {
   "cell_type": "code",
   "execution_count": 25,
   "id": "0874cde6",
   "metadata": {},
   "outputs": [
    {
     "name": "stdout",
     "output_type": "stream",
     "text": [
      "finish\n"
     ]
    }
   ],
   "source": [
    "\n",
    "# List of desired columns\n",
    "selected_columns = [\n",
    "    'frame.time_relative', 'ip.src', 'ip.dst', 'tcp.len', 'tcp.flags_ack', 'tcp.flags_syn',\n",
    "    'tcp.flags_fin', 'tcp.flags_urg', 'tcp.flags_ae', 'tcp.flags_cwr',\n",
    "    'tcp.flags_push', 'tcp.flags_res', 'tcp.flags_reset', 'tcp.flags_ece',\n",
    "    'tcp.flags_str', 'tcp.time_delta', 'mqtt.msgtype', 'mqtt.dupflag', 'mqtt.hdrflags',\n",
    "    'mqtt.len', 'mqtt.msg', 'mqtt.qos', 'mqtt.msgid', 'velocidade', 'angulo', 'vbat', 'attack_label'\n",
    "]\n",
    "\n",
    "# Filter only columns that exist in the DataFrame\n",
    "available_columns = [col for col in selected_columns if col in data_mqtt.columns]\n",
    "\n",
    "# Create new DataFrame with selected columns\n",
    "filtered_data = data_mqtt[available_columns]\n",
    "\n",
    "# Save to new CSV file\n",
    "filtered_data.to_csv(\"data_mqtt.csv\", index=False)\n",
    "print(\"finish\")"
   ]
  }
 ],
 "metadata": {
  "kernelspec": {
   "display_name": "Python 3",
   "language": "python",
   "name": "python3"
  },
  "language_info": {
   "codemirror_mode": {
    "name": "ipython",
    "version": 3
   },
   "file_extension": ".py",
   "mimetype": "text/x-python",
   "name": "python",
   "nbconvert_exporter": "python",
   "pygments_lexer": "ipython3",
   "version": "3.10.11"
  }
 },
 "nbformat": 4,
 "nbformat_minor": 5
}
